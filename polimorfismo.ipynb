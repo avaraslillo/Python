{
 "cells": [
  {
   "cell_type": "code",
   "execution_count": 2,
   "id": "183b18b6",
   "metadata": {},
   "outputs": [
    {
     "name": "stdout",
     "output_type": "stream",
     "text": [
      "Color azul, 150 km/h, 4 ruedas 1200 cc\n"
     ]
    }
   ],
   "source": [
    "class Vehiculo():\n",
    "    def __init__(self,color,ruedas):\n",
    "        self.color=color\n",
    "        self.ruedas=ruedas\n",
    "        \n",
    "    def __str__(self):\n",
    "        return \"Color {}, {} ruedas\".format(self.color,self.ruedas)\n",
    "    \n",
    "class Carro(Vehiculo):\n",
    "    def __init__(self,color,ruedas,velocidad,cilindraje):\n",
    "        self.color=color\n",
    "        self.ruedas=ruedas\n",
    "        self.velocidad=velocidad\n",
    "        self.cilindraje=cilindraje\n",
    "        \n",
    "    def __str__(self):\n",
    "        return \"Color {}, {} km/h, {} ruedas {} cc\".format(self.color,self.velocidad,self.ruedas,self.cilindraje)\n",
    "    \n",
    "\n",
    "toyota = Carro(\"azul\",4,150,1200)\n",
    "print(toyota)"
   ]
  },
  {
   "cell_type": "code",
   "execution_count": 3,
   "id": "9d5d1dd9",
   "metadata": {},
   "outputs": [
    {
     "name": "stdout",
     "output_type": "stream",
     "text": [
      "Color azul, 150 km/h, 4 ruedas 1200 cc\n"
     ]
    }
   ],
   "source": [
    "class Vehiculo():\n",
    "    def __init__(self,color,ruedas):\n",
    "        self.color=color\n",
    "        self.ruedas=ruedas\n",
    "        \n",
    "    def __str__(self):\n",
    "        return \"Color {}, {} ruedas\".format(self.color,self.ruedas)\n",
    "    \n",
    "class Carro(Vehiculo):\n",
    "    def __init__(self,color,ruedas,velocidad,cilindraje):\n",
    "        Vehiculo.__init__(self,color,ruedas)\n",
    "        self.velocidad=velocidad\n",
    "        self.cilindraje=cilindraje\n",
    "        \n",
    "    def __str__(self):\n",
    "        return \"Color {}, {} km/h, {} ruedas {} cc\".format(self.color,self.velocidad,self.ruedas,self.cilindraje)\n",
    "\n",
    "toyota = Carro(\"azul\",4,150,1200)\n",
    "print(toyota)"
   ]
  },
  {
   "cell_type": "code",
   "execution_count": 15,
   "id": "080fcd90",
   "metadata": {},
   "outputs": [],
   "source": [
    "class Vehiculo():\n",
    "    def __init__(self,color,ruedas):\n",
    "        self.color=color\n",
    "        self.ruedas=ruedas\n",
    "        \n",
    "    def __str__(self):\n",
    "        return \"Color {}, {} ruedas\".format(self.color,self.ruedas)\n",
    "    \n",
    "class Carro(Vehiculo):\n",
    "    def __init__(self,color,ruedas,velocidad,cilindraje):\n",
    "        super().__init__(color,ruedas)\n",
    "        self.velocidad=velocidad\n",
    "        self.cilindraje=cilindraje\n",
    "        \n",
    "    def __str__(self):\n",
    "        return super().__str__()+\" {} km/h, {} cc\".format(self.velocidad,self.cilindraje)\n",
    "\n",
    "class Camioneta(Carro):\n",
    "    def __init__(self,color,ruedas,velocidad,cilindraje,carga):\n",
    "        super().__init__(color,ruedas,velocidad,cilindraje)\n",
    "        self.carga=carga\n",
    "        \n",
    "    def __str__(self):\n",
    "        return super().__str__()+\" {} Kg. de carga\".format(self.carga)\n",
    "    \n",
    "class Bicicleta(Vehiculo):\n",
    "    def __init__(self,color,ruedas,tipo):\n",
    "        super().__init__(color,ruedas)\n",
    "        self.tipo=tipo\n",
    "        \n",
    "    def __str__(self):\n",
    "        return super().__str__()+\" {} \".format(self.tipo) \n",
    "    \n",
    "    \n",
    "class Motocicleta(Bicicleta):\n",
    "    def __init__(self,color,ruedas,tipo,velocidad,cilindraje):\n",
    "        super().__init__(color,ruedas,tipo)\n",
    "        self.velocidad=velocidad\n",
    "        self.cilindraje=cilindraje\n",
    "        \n",
    "    def __str__(self):\n",
    "        return super().__str__()+\" {} Km/h {} cc\".format(self.velocidad,self.cilindraje)\n",
    "    \n",
    "\n",
    "def catalogar(vehiculos,ruedas=None):\n",
    "    if ruedas !=None:\n",
    "        contador=0\n",
    "        for v in vehiculos:\n",
    "            if v.ruedas==ruedas:\n",
    "                contador +=1\n",
    "        print(\"\\nSe han encontrado {} vehículos con {} ruedas:\".format(contador,ruedas))\n",
    "        \n",
    "    for v in vehiculos:\n",
    "        if ruedas == None:\n",
    "            print(type(v).__name__,v)\n",
    "        else:\n",
    "            if v.ruedas == ruedas:\n",
    "                print(type(v).__name__,v)\n",
    "                    \n",
    "vehiculos=[\n",
    "    Carro(\"Azul\",4,150,1200),\n",
    "    Camioneta(\"Blanco\",4,100,1300,1500),\n",
    "    Bicicleta(\"Verde\",2,\"urbana\"),\n",
    "    Motocicleta(\"Negro\",2,\"deportiva\",180,900)\n",
    "]"
   ]
  },
  {
   "cell_type": "code",
   "execution_count": 16,
   "id": "510e0cd5",
   "metadata": {
    "scrolled": true
   },
   "outputs": [
    {
     "name": "stdout",
     "output_type": "stream",
     "text": [
      "Carro Color Azul, 4 ruedas 150 km/h, 1200 cc\n",
      "Camioneta Color Blanco, 4 ruedas 100 km/h, 1300 cc 1500 Kg. de carga\n",
      "Bicicleta Color Verde, 2 ruedas urbana \n",
      "Motocicleta Color Negro, 2 ruedas deportiva  180 Km/h 900 cc\n",
      "\n",
      "Se han encontrado 0 vehículos con 0 ruedas:\n",
      "\n",
      "Se han encontrado 2 vehículos con 2 ruedas:\n",
      "Bicicleta Color Verde, 2 ruedas urbana \n",
      "Motocicleta Color Negro, 2 ruedas deportiva  180 Km/h 900 cc\n",
      "\n",
      "Se han encontrado 2 vehículos con 4 ruedas:\n",
      "Carro Color Azul, 4 ruedas 150 km/h, 1200 cc\n",
      "Camioneta Color Blanco, 4 ruedas 100 km/h, 1300 cc 1500 Kg. de carga\n"
     ]
    }
   ],
   "source": [
    "catalogar(vehiculos)\n",
    "catalogar(vehiculos,0)\n",
    "catalogar(vehiculos,2)\n",
    "catalogar(vehiculos,4)"
   ]
  },
  {
   "cell_type": "code",
   "execution_count": 14,
   "id": "71496b56",
   "metadata": {},
   "outputs": [],
   "source": [
    "catalogar(vehiculos)"
   ]
  },
  {
   "cell_type": "code",
   "execution_count": null,
   "id": "7e2b402f",
   "metadata": {},
   "outputs": [],
   "source": []
  }
 ],
 "metadata": {
  "kernelspec": {
   "display_name": "Python 3 (ipykernel)",
   "language": "python",
   "name": "python3"
  },
  "language_info": {
   "codemirror_mode": {
    "name": "ipython",
    "version": 3
   },
   "file_extension": ".py",
   "mimetype": "text/x-python",
   "name": "python",
   "nbconvert_exporter": "python",
   "pygments_lexer": "ipython3",
   "version": "3.11.5"
  }
 },
 "nbformat": 4,
 "nbformat_minor": 5
}
